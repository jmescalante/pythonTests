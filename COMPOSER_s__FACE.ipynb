{
 "metadata": {
  "name": "",
  "signature": "sha256:b1bc78e602ed5ad9839464d7a02fbc99cf833bafb72900d7cb7df55570d0f34c"
 },
 "nbformat": 3,
 "nbformat_minor": 0,
 "worksheets": [
  {
   "cells": [
    {
     "cell_type": "heading",
     "level": 1,
     "metadata": {},
     "source": [
      "The composer's face"
     ]
    },
    {
     "cell_type": "raw",
     "metadata": {},
     "source": [
      "This code explores a way of translating a composer's portrait to sound. Then, hopefully at the end, arranging all of them | JM Escalante"
     ]
    },
    {
     "cell_type": "code",
     "collapsed": false,
     "input": [
      "# %%%%%%%%%%%%%%%%%%%%%%%%%%%%%%%%%%%%%%%%%%%%%%%%%%%%%%%%%%%%%%%%%%%%%%%%\n",
      "# We import everything we need\n",
      "# (still not sure which package I specifically need)\n",
      "from __future__ import print_function\n",
      "from __future__ import division\n",
      "import wave\n",
      "import numpy as np\n",
      "import matplotlib.pyplot as plt\n",
      "from scipy.io import wavfile\n",
      "import numpy.random\n",
      "# la siguiente linea es para trabajar con imgs\n",
      "%pylab\n",
      "%matplotlib inline  "
     ],
     "language": "python",
     "metadata": {},
     "outputs": [
      {
       "output_type": "stream",
       "stream": "stdout",
       "text": [
        "Using matplotlib backend: MacOSX\n",
        "Populating the interactive namespace from numpy and matplotlib\n"
       ]
      }
     ],
     "prompt_number": 1
    },
    {
     "cell_type": "code",
     "collapsed": false,
     "input": [
      "# FUNCTION TO CREATE REPETITIONS\n",
      "# %%%%%%%%%%%%%%%%%%%%%%%%%%%%%%%%%%%%%%%%%%%%%%%%%%%%%%%%%%%%%%%%%%%%%%%%\n",
      "# %%%%%%%%%%%%%%%%%%%%%%%%%%%%%%%%%%%%%%%%%%%%%%%%%%%%%%%%%%%%%%%%%%%%%%%%\n",
      "\n",
      "# Esta function crea un segmento de 2, 6 repeticiones\n",
      "def crearSegmento(nombreImagen, repeticiones, modular):\n",
      "    # 1. We read the image, ok?\n",
      "    imagen = imread(nombreImagen)\n",
      "    \n",
      "    # 2. We will read only one channel of that image\n",
      "    rawImg = imagen[120, :, 1]\n",
      "    \n",
      "    # 3. We establish a random repetition\n",
      "    moneda = np.random.binomial(repeticiones, 0.5, 1)\n",
      "    repeticiones = 2+moneda[0]\n",
      "    \n",
      "    # 4. We create a new list of repetitions\n",
      "    treatedImg = rawImg\n",
      "    \n",
      "    # 5. We fill this new previous Array as necessary\n",
      "    for x in range(1, repeticiones):\n",
      "        treatedImg = concatenate([treatedImg,rawImg])\n",
      "        \n",
      "    # 6. We set-up the total length\n",
      "    # (very important in the future, if we decide to modulate)\n",
      "    longitud = len(treatedImg)\n",
      "    \n",
      "    # 7. Since all of this numbers are so low, we elevate them a bit\n",
      "    raisedImg = treatedImg*200\n",
      "    \n",
      "    # 8. If modulation is turned on, then we modulate\n",
      "    if modular == 1:\n",
      "        #print(\">> STARTING MODULATION\")\n",
      "        #raisedImgB = modular(raisedImg, longitud)\n",
      "        # WE wil porbably mess everything up here ------\n",
      "        # A. Definimos un no. de oscilaciones al azar\n",
      "        oscilacionesBase = 1/200\n",
      "        moneda = np.random.binomial(oscilacionesBase, 0.5, 1)\n",
      "        oscilaciones = 2+moneda[0]\n",
      "        \n",
      "        # B. Creamos un phasor\n",
      "        phs1 = linspace( 0, oscilaciones * 2*pi, longitud )\n",
      "        \n",
      "        # C. Ahora el verdadero arreglo de 1, 0 y -1 que da una senoidal\n",
      "        senoidal = sin(phs1)\n",
      "        \n",
      "        # 4. We multiply, which is: modulate\n",
      "        # \"It's fun to modulate\" -Kraftwerk\n",
      "        modeledImg = senoidal*raisedImg\n",
      "        \n",
      "                \n",
      "        raisedImg = modeledImg\n",
      "        \n",
      "        \n",
      "        \n",
      "        ## ---------------------------------------- mess ends\n",
      "        \n",
      "        \n",
      "    # 9. We return this array\n",
      "    return raisedImg\n",
      "\n",
      "\n",
      "# %%%%%%%%%%%%%%%%%%%%%%%%%%%%%%%%%%%%%%%%%%%%%%%%%%%%%%%%%%%%%%%%%%%%%%%%\n",
      "# %%%%%%%%%%%%%%%%%%%%%%%%%%%%%%%%%%%%%%%%%%%%%%%%%%%%%%%%%%%%%%%%%%%%%%%%\n",
      "# FUNCTION TO SAVE AN AUDIO FILE\n",
      "# %%%%%%%%%%%%%%%%%%%%%%%%%%%%%%%%%%%%%%%%%%%%%%%%%%%%%%%%%%%%%%%%%%%%%%%%\n",
      "# %%%%%%%%%%%%%%%%%%%%%%%%%%%%%%%%%%%%%%%%%%%%%%%%%%%%%%%%%%%%%%%%%%%%%%%%\n",
      "# This function creates and audio from an Array\n",
      "\n",
      "def crearAudio(arreglo, nombre):\n",
      "    duracion = 30\n",
      "    # We make the proper operations\n",
      "    sigToWav = list((arreglo.astype(int64)-100)  *200) * duracion\n",
      "    #We write the file at last\n",
      "    wavfile.write(nombre, 44100, array(sigToWav, dtype=int16))\n",
      "    print(\">> AUDIO CREATED!!!!!!\")\n",
      "# %%%%%%%%%%%%%%%%%%%%%%%%%%%%%%%%%%%%%%%%%%%%%%%%%%%%%%%%%%%%%%%%%%%%%%%%\n",
      "# %%%%%%%%%%%%%%%%%%%%%%%%%%%%%%%%%%%%%%%%%%%%%%%%%%%%%%%%%%%% c'est tout!\n",
      "print(\">> Functions loaded, everything OK\")"
     ],
     "language": "python",
     "metadata": {},
     "outputs": [
      {
       "output_type": "stream",
       "stream": "stdout",
       "text": [
        ">> Functions loaded, everything OK\n"
       ]
      }
     ],
     "prompt_number": 2
    },
    {
     "cell_type": "code",
     "collapsed": false,
     "input": [
      "# > > > > > >> TEST \n",
      "# Let's try our segment function:\n",
      "imagen1 = crearSegmento('1813 wagner.png', 6, 0)\n",
      "plot(imagen1)\n",
      "crearAudio(imagen1, 'sera.wav')"
     ],
     "language": "python",
     "metadata": {},
     "outputs": [
      {
       "output_type": "stream",
       "stream": "stdout",
       "text": [
        ">> AUDIO CREATED!!!!!!\n"
       ]
      },
      {
       "metadata": {},
       "output_type": "display_data",
       "png": "[encoded data removed]",
       "text": [
        "<matplotlib.figure.Figure at 0x109152910>"
       ]
      }
     ],
     "prompt_number": 5
    },
    {
     "cell_type": "code",
     "collapsed": false,
     "input": [
      "# Attempt to make a final songs of several composers\n",
      "\n",
      "# 1. We define the composers names\n",
      "nombresOriginales = ['1813 wagner.png',\n",
      "           '1770 beethoven.png',\n",
      "           '1756 mozart.png',\n",
      "           '1928 stockhausen.png',\n",
      "           '1923 lygetti.png',\n",
      "           '1912 cage.png',\n",
      "           '1685 bach.png',\n",
      "           '1813 Verdi.png',\n",
      "           '1810 Chopin.png',\n",
      "           '1922 xenakis.png',\n",
      "           '1685 handel.png',\n",
      "           '1873 rachmaninov.png',\n",
      "           '1840 Tchaikovsky.png']\n",
      "nombres = nombresOriginales\n",
      "\n",
      "# 1b. Little experiment to make passages (SEQUENCER)\n",
      "for i in range(3):\n",
      "    # new array just to be safe\n",
      "    sortedNames = nombresOriginales\n",
      "    \n",
      "    # which kind of sorting for these sequence, we flip a coin!\n",
      "    numberOfPosibilities = 4\n",
      "    moneda = np.random.binomial(numberOfPosibilities-1, 0.5, 1)\n",
      "    print (\"moneda:\")\n",
      "    print (moneda)\n",
      "    # CASO 1 (sorting alfabetico ASC)\n",
      "    if moneda == 0:\n",
      "        sortedNames = nombresOriginales #No pasa algo todo en orden\n",
      "    elif moneda == 1:\n",
      "        sortedNames = np.sort(sortedNames, kind = 'quicksort')\n",
      "    elif moneda == 2:\n",
      "        # We slice the array\n",
      "        noMax = np.floor(len(sortedNames)/2)\n",
      "        punto1 =int(np.round(numpy.random.rand()*(noMax-1)))\n",
      "        noMaxB = np.floor((len(sortedNames)-2)/2)\n",
      "        punto2 = int(np.round(numpy.random.rand()*(noMaxB-1)))\n",
      "        punto2 = punto2+np.floor(len(sortedNames)/2)\n",
      "        sortedNames = sortedNames[int(punto1):int(punto2)]\n",
      "    elif moneda == 3:\n",
      "        nuevosNames = nombresOriginales\n",
      "        # We fill it randomly\n",
      "        monedaB = np.random.binomial(6, 0.5, 1)\n",
      "        for x in range(monedaB):\n",
      "            noMax = np.floor(len(nombresOriginales))-1\n",
      "            posicion = int(np.round(numpy.random.rand()*(noMax-1)))\n",
      "            posicion = np.abs(posicion)\n",
      "            nuevosNames[x] = nombresOriginales[posicion]\n",
      "            \n",
      "    \n",
      "    # how many repetitions in the sequences?\n",
      "    moneda = np.random.binomial(4, 0.5, 1)\n",
      "    repeticiones = 1+moneda[0]\n",
      "    \n",
      "    # we concat the names according to the repetitions\n",
      "    for i in range(repeticiones):\n",
      "        nombres = concatenate([nombres,sortedNames])       \n",
      "#nombres = nombresOriginales #Failswitch\n",
      "\n",
      "# 2. We define a quantity\n",
      "cantidadCompositores = len(nombres)\n",
      "\n",
      "#. 3. An empty areray to put everything\n",
      "composersArray = list()\n",
      "\n",
      "# 4. We start making a cycle\n",
      "for i in range(0, cantidadCompositores):\n",
      "    \n",
      "    # a. we ask for data\n",
      "    individualArray = crearSegmento(nombres[i], 56, 0)\n",
      "    \n",
      "    # b. we keep growing up our Array\n",
      "    composersArray = concatenate([composersArray,individualArray])\n",
      "\n",
      "# 5. We plot the final song\n",
      "plot(composersArray)\n",
      "\n",
      "# 6. We save it\n",
      "crearAudio(composersArray, 'composers.wav')"
     ],
     "language": "python",
     "metadata": {},
     "outputs": [
      {
       "output_type": "stream",
       "stream": "stdout",
       "text": [
        "moneda:\n",
        "[2]\n",
        "moneda:\n",
        "[3]\n",
        "moneda:\n",
        "[1]\n",
        ">> AUDIO CREATED!!!!!!"
       ]
      },
      {
       "output_type": "stream",
       "stream": "stdout",
       "text": [
        "\n"
       ]
      },
      {
       "metadata": {},
       "output_type": "display_data",
       "png": "[encoded data removed]",
       "text": [
        "<matplotlib.figure.Figure at 0x10958fd50>"
       ]
      }
     ],
     "prompt_number": 104
    },
    {
     "cell_type": "heading",
     "level": 1,
     "metadata": {},
     "source": [
      "Helper functions (ignore)"
     ]
    },
    {
     "cell_type": "code",
     "collapsed": false,
     "input": [
      "# Just a test to see how binomial behavior works\n",
      "for i in range(10):\n",
      "    moneda = np.random.binomial(0, 0.5, 1)\n",
      "    repeticiones = moneda[0]\n",
      "    print(repeticiones)"
     ],
     "language": "python",
     "metadata": {},
     "outputs": [
      {
       "output_type": "stream",
       "stream": "stdout",
       "text": [
        "0\n",
        "0\n",
        "0\n",
        "0\n",
        "0\n",
        "0\n",
        "0\n",
        "0\n",
        "0\n",
        "0\n"
       ]
      }
     ],
     "prompt_number": 16
    },
    {
     "cell_type": "code",
     "collapsed": false,
     "input": [
      "# How can we re-arrange a string Array?\n",
      "otrosNombres = ['1813 wagner.png',\n",
      "           '1770 beethoven.png',\n",
      "           '1840 Tchaikovsky.png']\n",
      "otrosNombresB = np.sort(otrosNombres, kind='heapsort')\n",
      "print(otrosNombres)\n",
      "print('---')\n",
      "print(otrosNombresB)"
     ],
     "language": "python",
     "metadata": {},
     "outputs": [
      {
       "output_type": "stream",
       "stream": "stdout",
       "text": [
        "['1813 wagner.png', '1770 beethoven.png', '1840 Tchaikovsky.png']\n",
        "---\n",
        "['1770 beethoven.png' '1813 wagner.png' '1840 Tchaikovsky.png']\n"
       ]
      }
     ],
     "prompt_number": 15
    },
    {
     "cell_type": "code",
     "collapsed": false,
     "input": [
      "# Tests para obtener un no al azar\n",
      "for i in range(10):\n",
      "    noMax = 3\n",
      "    azar = int(np.round(numpy.random.rand()*(noMax-1)))\n",
      "    print(azar)\n",
      "    "
     ],
     "language": "python",
     "metadata": {},
     "outputs": [
      {
       "output_type": "stream",
       "stream": "stdout",
       "text": [
        "2\n",
        "0\n",
        "0\n",
        "1\n",
        "1\n",
        "1\n",
        "1\n",
        "1\n",
        "2\n",
        "2\n"
       ]
      }
     ],
     "prompt_number": 90
    },
    {
     "cell_type": "heading",
     "level": 1,
     "metadata": {},
     "source": []
    },
    {
     "cell_type": "code",
     "collapsed": false,
     "input": [
      "numberOfPosibilities = 4\n",
      "for i in range(10):\n",
      "    moneda = np.random.binomial(numberOfPosibilities-1, 0.5, 1)\n",
      "    print(moneda)"
     ],
     "language": "python",
     "metadata": {},
     "outputs": [
      {
       "output_type": "stream",
       "stream": "stdout",
       "text": [
        "[2]\n",
        "[2]\n",
        "[1]\n",
        "[2]\n",
        "[2]\n",
        "[1]\n",
        "[3]\n",
        "[1]\n",
        "[2]\n",
        "[3]\n"
       ]
      }
     ],
     "prompt_number": 103
    },
    {
     "cell_type": "code",
     "collapsed": false,
     "input": [],
     "language": "python",
     "metadata": {},
     "outputs": [],
     "prompt_number": 103
    },
    {
     "cell_type": "code",
     "collapsed": false,
     "input": [],
     "language": "python",
     "metadata": {},
     "outputs": [],
     "prompt_number": 27
    },
    {
     "cell_type": "code",
     "collapsed": false,
     "input": [],
     "language": "python",
     "metadata": {},
     "outputs": []
    }
   ],
   "metadata": {}
  }
 ]
}