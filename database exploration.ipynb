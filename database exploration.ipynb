{
 "metadata": {
  "name": "",
  "signature": "sha256:31a9d4f77d2de95fb2fb3a87f0e905366484b5f507a92136e527d4c83345eddc"
 },
 "nbformat": 3,
 "nbformat_minor": 0,
 "worksheets": [
  {
   "cells": [
    {
     "cell_type": "heading",
     "level": 1,
     "metadata": {},
     "source": [
      "*"
     ]
    },
    {
     "cell_type": "heading",
     "level": 1,
     "metadata": {},
     "source": [
      "THE STRUGGLE OF EDUCATION"
     ]
    },
    {
     "cell_type": "heading",
     "level": 3,
     "metadata": {},
     "source": [
      "Percentages of enrollment according to educational stage and income around the world"
     ]
    },
    {
     "cell_type": "markdown",
     "metadata": {},
     "source": [
      "Juan Manuel Escalante | Based on the World Bank data as of 2014 | http://data.worldbank.org/"
     ]
    },
    {
     "cell_type": "markdown",
     "metadata": {},
     "source": [
      "    \n",
      "*\n",
      "    "
     ]
    },
    {
     "cell_type": "code",
     "collapsed": false,
     "input": [
      "# Nice intro tutorial from:\n",
      "# http://nbviewer.ipython.org/github/jvns/pandas-cookbook/blob/master/cookbook/Chapter%201%20-%20Reading%20from%20a%20CSV.ipynb\n",
      "# We import the pandas module to get CSV functions\n",
      "import pandas as pd"
     ],
     "language": "python",
     "metadata": {},
     "outputs": [],
     "prompt_number": 15
    },
    {
     "cell_type": "code",
     "collapsed": false,
     "input": [
      "#We establish a data name\n",
      "nombre = 'world.csv'"
     ],
     "language": "python",
     "metadata": {},
     "outputs": [],
     "prompt_number": 8
    },
    {
     "cell_type": "code",
     "collapsed": false,
     "input": [
      "#We read the data\n",
      "datos = pd.read_csv(nombre)"
     ],
     "language": "python",
     "metadata": {},
     "outputs": [],
     "prompt_number": 9
    },
    {
     "cell_type": "code",
     "collapsed": true,
     "input": [
      "#We save the data locally (saw this in a tutorial, perhaps... not to mess with it if something goes wrong?)\n",
      "datos.to_csv('world_temp', index=False)"
     ],
     "language": "python",
     "metadata": {},
     "outputs": [],
     "prompt_number": 10
    },
    {
     "cell_type": "code",
     "collapsed": false,
     "input": [
      "# Let's verify our headers\n",
      "datos.head()"
     ],
     "language": "python",
     "metadata": {},
     "outputs": [
      {
       "html": [
        "<div style=\"max-height:1000px;max-width:1500px;overflow:auto;\">\n",
        "<table border=\"1\" class=\"dataframe\">\n",
        "  <thead>\n",
        "    <tr style=\"text-align: right;\">\n",
        "      <th></th>\n",
        "      <th>INCOME TYPE</th>\n",
        "      <th>PREPRIMARY</th>\n",
        "      <th>PRIMARY</th>\n",
        "      <th>SECONDARY</th>\n",
        "      <th>TERTIARY</th>\n",
        "    </tr>\n",
        "  </thead>\n",
        "  <tbody>\n",
        "    <tr>\n",
        "      <th>0</th>\n",
        "      <td>          Low income</td>\n",
        "      <td> 19</td>\n",
        "      <td> 108</td>\n",
        "      <td> 44</td>\n",
        "      <td>  9</td>\n",
        "    </tr>\n",
        "    <tr>\n",
        "      <th>1</th>\n",
        "      <td>       Middle income</td>\n",
        "      <td> 57</td>\n",
        "      <td> 110</td>\n",
        "      <td> 74</td>\n",
        "      <td> 28</td>\n",
        "    </tr>\n",
        "    <tr>\n",
        "      <th>2</th>\n",
        "      <td> Lower middle income</td>\n",
        "      <td> 50</td>\n",
        "      <td> 105</td>\n",
        "      <td> 65</td>\n",
        "      <td> 23</td>\n",
        "    </tr>\n",
        "    <tr>\n",
        "      <th>3</th>\n",
        "      <td> Upper middle income</td>\n",
        "      <td> 69</td>\n",
        "      <td> 117</td>\n",
        "      <td> 88</td>\n",
        "      <td> 34</td>\n",
        "    </tr>\n",
        "    <tr>\n",
        "      <th>4</th>\n",
        "      <td> Low &amp; middle income</td>\n",
        "      <td> 49</td>\n",
        "      <td> 109</td>\n",
        "      <td> 69</td>\n",
        "      <td> 25</td>\n",
        "    </tr>\n",
        "  </tbody>\n",
        "</table>\n",
        "</div>"
       ],
       "metadata": {},
       "output_type": "pyout",
       "prompt_number": 11,
       "text": [
        "           INCOME TYPE  PREPRIMARY  PRIMARY  SECONDARY  TERTIARY\n",
        "0           Low income          19      108         44         9\n",
        "1        Middle income          57      110         74        28\n",
        "2  Lower middle income          50      105         65        23\n",
        "3  Upper middle income          69      117         88        34\n",
        "4  Low & middle income          49      109         69        25"
       ]
      }
     ],
     "prompt_number": 11
    },
    {
     "cell_type": "code",
     "collapsed": false,
     "input": [
      "# Now let's try to access each part of the data separately\n",
      "datos['INCOME TYPE']"
     ],
     "language": "python",
     "metadata": {},
     "outputs": [
      {
       "metadata": {},
       "output_type": "pyout",
       "prompt_number": 20,
       "text": [
        "0             Low income\n",
        "1          Middle income\n",
        "2    Lower middle income\n",
        "3    Upper middle income\n",
        "4    Low & middle income\n",
        "5            High income\n",
        "Name: INCOME TYPE, dtype: object"
       ]
      }
     ],
     "prompt_number": 20
    },
    {
     "cell_type": "code",
     "collapsed": false,
     "input": [
      "# AHJA! Now, let's just grab one individual number, shall we?\n",
      "datos['INCOME TYPE'][0]"
     ],
     "language": "python",
     "metadata": {},
     "outputs": [
      {
       "metadata": {},
       "output_type": "pyout",
       "prompt_number": 21,
       "text": [
        "'Low income'"
       ]
      }
     ],
     "prompt_number": 21
    },
    {
     "cell_type": "code",
     "collapsed": false,
     "input": [
      "#This is interesting:\n",
      "len(datos['PREPRIMARY'])\n",
      "# Throws the total number of columns"
     ],
     "language": "python",
     "metadata": {},
     "outputs": [
      {
       "metadata": {},
       "output_type": "pyout",
       "prompt_number": 29,
       "text": [
        "6"
       ]
      }
     ],
     "prompt_number": 29
    },
    {
     "cell_type": "code",
     "collapsed": false,
     "input": [
      "# Now let's import some python magic before we plot something\n",
      "%matplotlib inline\n",
      "import matplotlib.pyplot as plt"
     ],
     "language": "python",
     "metadata": {},
     "outputs": [],
     "prompt_number": 30
    },
    {
     "cell_type": "code",
     "collapsed": false,
     "input": [
      "#First column plot, BOOM! Easy as pie.\n",
      "datos['PREPRIMARY'].plot()"
     ],
     "language": "python",
     "metadata": {},
     "outputs": [
      {
       "metadata": {},
       "output_type": "pyout",
       "prompt_number": 31,
       "text": [
        "<matplotlib.axes._subplots.AxesSubplot at 0x10a380050>"
       ]
      },
      {
       "metadata": {},
       "output_type": "display_data",
       "png": "[encoded data removed]",
       "text": [
        "<matplotlib.figure.Figure at 0x10a4b2910>"
       ]
      }
     ],
     "prompt_number": 31
    },
    {
     "cell_type": "code",
     "collapsed": false,
     "input": [
      "# Now let's add some more columns, shall we?\n",
      "datos['PREPRIMARY'].plot()\n",
      "datos['PRIMARY'].plot()\n",
      "datos['SECONDARY'].plot()\n",
      "datos['TERTIARY'].plot()"
     ],
     "language": "python",
     "metadata": {},
     "outputs": [
      {
       "metadata": {},
       "output_type": "pyout",
       "prompt_number": 33,
       "text": [
        "<matplotlib.axes._subplots.AxesSubplot at 0x10a4bba90>"
       ]
      },
      {
       "metadata": {},
       "output_type": "display_data",
       "png": "[encoded data removed]",
       "text": [
        "<matplotlib.figure.Figure at 0x10a5390d0>"
       ]
      }
     ],
     "prompt_number": 33
    },
    {
     "cell_type": "code",
     "collapsed": false,
     "input": [
      "# Let's add the info\n",
      "# Now let's add some more columns, shall we?\n",
      "plot(datos['PREPRIMARY'], 'o-', linewidth= 0.15, marker= 'x', markersize=10, markeredgewidth=2)\n",
      "plot(datos['PRIMARY'], 'o-', linewidth= 0.15)\n",
      "plot(datos['SECONDARY'], 'o-', linewidth= 0.15)\n",
      "plot(datos['TERTIARY'], 'o-', linewidth= 0.15)\n",
      "#Intel\n",
      "title('Gross enrollment ratio in the world', fontsize=20, alpha=0.4)\n",
      "xlabel('income')\n",
      "ylabel('Percentage of relevant age group')\n",
      "#We cut the horizontal data, to only display from 1-4\n",
      "xlim((0.51,5.5))\n",
      "ylim((0, 130)) #To center properly the data\n",
      "#We display a Legend\n",
      "nombres = ['Pre-primary', 'Primary', 'Secondary', 'Tertiary']\n",
      "legend(nombres, fontsize=11, bbox_to_anchor=(1.5, 1.05), fancybox=True) #Notice the outer placement of the legen\n",
      "# More about htis here: http://matplotlib.org/api/pyplot_api.html#matplotlib.pyplot.legend\n",
      "# We re-arrange the graphic size\n",
      "\n",
      "# Vamos a mover lo innecesario\n",
      "ax = subplot(111)  \n",
      "ax.spines[\"top\"].set_visible(False)  \n",
      "ax.spines[\"right\"].set_visible(False)  \n",
      "ax.spines[\"right\"].set_visible(False)  \n",
      "ax.spines[\"left\"].set_visible(False)  \n",
      "# Tampoco queremos las ticks\n",
      "ax.get_xaxis().tick_bottom()  \n",
      "ax.get_yaxis().tick_left() \n",
      "ax.get_xaxis().set_visible(False) #Ocultamos el axis LOW\n",
      "\n",
      "ax.get_yaxis().set_alpha(0.2) # no funciona :(\n",
      "\n",
      "ax.text(1-0.1, -12, \"LOW\", multialignment='center')\n",
      "ax.text(2-0.1, -12, \"MIDDLE\", multialignment='center')\n",
      "ax.text(3-0.1, -12, \"MIDDLE-L\", multialignment='center')\n",
      "ax.text(4-0.1, -12, \"MIDDLE-U\", multialignment='center')\n",
      "ax.text(5-0.1, -12, \"UPPER\", multialignment='center')\n",
      "\n",
      "#Saving\n",
      "savefig(\"enrollment_ratio_2012.png\", bbox_inches=\"tight\");  "
     ],
     "language": "python",
     "metadata": {},
     "outputs": [
      {
       "metadata": {},
       "output_type": "display_data",
       "png": "[encoded data removed]",
       "text": [
        "<matplotlib.figure.Figure at 0x1186ba250>"
       ]
      }
     ],
     "prompt_number": 143
    },
    {
     "cell_type": "code",
     "collapsed": false,
     "input": [],
     "language": "python",
     "metadata": {},
     "outputs": [],
     "prompt_number": 137
    },
    {
     "cell_type": "code",
     "collapsed": false,
     "input": [],
     "language": "python",
     "metadata": {},
     "outputs": []
    }
   ],
   "metadata": {}
  }
 ]
}